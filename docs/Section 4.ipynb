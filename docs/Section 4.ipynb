{
 "cells": [
  {
   "cell_type": "markdown",
   "metadata": {},
   "source": [
    "# Simulation Study"
   ]
  },
  {
   "cell_type": "code",
   "execution_count": 1,
   "metadata": {
    "scrolled": true
   },
   "outputs": [],
   "source": [
    "from preamble import *\n",
    "\n",
    "%config InlineBackend.figure_format = 'retina'\n",
    "%load_ext lab_black"
   ]
  },
  {
   "cell_type": "code",
   "execution_count": 2,
   "metadata": {},
   "outputs": [],
   "source": [
    "# dill.load_session(\"Sim_Lognormal_Gamma.pkl\")"
   ]
  },
  {
   "cell_type": "code",
   "execution_count": 3,
   "metadata": {},
   "outputs": [
    {
     "name": "stdout",
     "output_type": "stream",
     "text": [
      "ABC version: 0.1.1\n",
      "Python version: 3.8.10 (default, May 19 2021, 18:05:58) \n",
      "[GCC 7.3.0]\n",
      "Numpy version: 1.20.3\n",
      "PyMC3 version: 3.11.2\n",
      "Arviz version: 0.11.2\n"
     ]
    }
   ],
   "source": [
    "import sys\n",
    "\n",
    "print(\"ABC version:\", abc.__version__)\n",
    "print(\"Python version:\", sys.version)\n",
    "print(\"Numpy version:\", np.__version__)\n",
    "print(\"PyMC3 version:\", pm.__version__)\n",
    "print(\"Arviz version:\", arviz.__version__)\n",
    "\n",
    "tic()"
   ]
  },
  {
   "cell_type": "code",
   "execution_count": 4,
   "metadata": {},
   "outputs": [],
   "source": [
    "FAST = False\n",
    "\n",
    "# Processor information and SMC calibration parameters\n",
    "if not FAST:\n",
    "    numItersData = 20\n",
    "    popSize = 1000\n",
    "    popSizeModels = 1000\n",
    "    epsMin = 0\n",
    "    timeout = 1000\n",
    "else:\n",
    "    numItersData = 8\n",
    "    popSize = 500\n",
    "    popSizeModels = 1000\n",
    "    epsMin = 1\n",
    "    timeout = 30\n",
    "\n",
    "smcArgs = {\"timeout\": timeout, \"epsMin\": epsMin, \"verbose\": True}\n",
    "smcArgs[\"numProcs\"] = 40"
   ]
  },
  {
   "cell_type": "markdown",
   "metadata": {},
   "source": [
    "## Model selection\n",
    "\n",
    "We generate individual claim sizes from three models \n",
    "\n",
    "- $\\text{Weib}\\left(k = 1/2,\\beta =  e^{1/2}/ \\Gamma(3/2)\\right)$\n",
    "- $\\text{Gamma}(r = e^{1/2},m = 1)$\n",
    "- $\\text{LogNormal}(\\mu = 0,\\sigma = 1)$\n",
    "\n",
    "Samples of sizes $25, 50$ are considered"
   ]
  },
  {
   "cell_type": "code",
   "execution_count": 5,
   "metadata": {},
   "outputs": [
    {
     "data": {
      "text/plain": [
       "1.8603827342052657"
      ]
     },
     "execution_count": 5,
     "metadata": {},
     "output_type": "execute_result"
    }
   ],
   "source": [
    "from math import gamma\n",
    "\n",
    "np.exp(1 / 2) / gamma(3 / 2)"
   ]
  },
  {
   "cell_type": "code",
   "execution_count": 6,
   "metadata": {},
   "outputs": [],
   "source": [
    "rg = default_rng(123)\n",
    "\n",
    "sample_sizes = [25, 50, 75, 100, 150, 200]\n",
    "T = sample_sizes[-1]\n",
    "\n",
    "claim_data = pd.DataFrame(\n",
    "    {\n",
    "        \"lognormal\": abc.simulate_claim_sizes(rg, T, \"lognormal\", (0, 1)),\n",
    "        \"gamma\": abc.simulate_claim_sizes(rg, T, \"gamma\", (np.exp(1 / 2), 1)),\n",
    "        \"weibull\": abc.simulate_claim_sizes(\n",
    "            rg, T, \"weibull\", (1 / 2, np.exp(1 / 2) / gamma(3 / 2))\n",
    "        ),\n",
    "    }\n",
    ")"
   ]
  },
  {
   "cell_type": "markdown",
   "metadata": {},
   "source": [
    "## ABC posterior for choosing between lognormal, Weibull and gamma to model the claim sizes\n",
    "\n",
    "### Lognormal data"
   ]
  },
  {
   "cell_type": "code",
   "execution_count": 7,
   "metadata": {},
   "outputs": [],
   "source": [
    "models_data = [\"lognormal\"]\n",
    "models_fitted = [\"gamma\", \"lognormal\", \"weibull\"]\n",
    "\n",
    "priorG = abc.IndependentUniformPrior([(0, 5), (0, 100)], (\"r\", \"m\"))\n",
    "modelG = abc.Model(sev=\"gamma\", prior=priorG)\n",
    "\n",
    "priorL = abc.IndependentUniformPrior([(-20, 20), (0, 5)], (\"μ\", \"σ\"))\n",
    "modelL = abc.Model(sev=\"lognormal\", prior=priorL)\n",
    "\n",
    "priorW = abc.IndependentUniformPrior([(1e-1, 5), (0, 100)], (\"k\", \"δ\"))\n",
    "modelW = abc.Model(sev=\"weibull\", prior=priorW)\n",
    "\n",
    "models = [modelG, modelL, modelW]"
   ]
  },
  {
   "cell_type": "code",
   "execution_count": 8,
   "metadata": {},
   "outputs": [
    {
     "data": {
      "text/html": [
       "Starting ABC-SMC with population size of 1000 and sample size of 25 (~> 25) on 40 processes.<p>Finished iteration 0, eps = 52.85, time = 6.0s / 0.1m, ESS = [329 334 337] -> [130 190 180], numSims = 1000\n",
       "\tmodel populations = [130, 190, 180], model weights = [0.26 0.38 0.36]<p>Finished iteration 1, eps = 1.84, time = 2.0s / 0.0m, ESS = [296 520 491] -> [ 32 440  28], numSims = 2487\n",
       "\tmodel populations = [34, 520, 29], model weights = [0.07 0.87 0.06]<p>Finished iteration 2, eps = 1.69, time = 1.0s / 0.0m, ESS = [222 805 486] -> [ 51 261 188], numSims = 3139\n",
       "\tmodel populations = [69, 303, 446], model weights = [0.14 0.71 0.15]<p>Finished iteration 3, eps = 0.92, time = 1.0s / 0.0m, ESS = [ 49 880 830] -> [ 20  29 451], numSims = 3563\n",
       "\tmodel populations = [25, 30, 507], model weights = [0.21 0.27 0.52]<p>Finished iteration 4, eps = 0.66, time = 1.0s / 0.0m, ESS = [106 598 757] -> [125 117 258], numSims = 3583\n",
       "\tmodel populations = [157, 125, 323], model weights = [0.34 0.24 0.42]<p>Finished iteration 5, eps = 0.43, time = 1.0s / 0.0m, ESS = [252 471 865] -> [153 153 194], numSims = 3895\n",
       "\tmodel populations = [182, 163, 201], model weights = [0.45 0.21 0.34]<p>Finished iteration 6, eps = 0.31, time = 1.0s / 0.0m, ESS = [371 521 821] -> [126 135 239], numSims = 6276\n",
       "\tmodel populations = [132, 140, 252], model weights = [0.46 0.17 0.37]<p>Finished iteration 7, eps = 0.24, time = 1.0s / 0.0m, ESS = [456 437 854] -> [141 107 252], numSims = 11056\n",
       "\tmodel populations = [148, 123, 269], model weights = [0.44 0.16 0.4 ]<p>Finished iteration 8, eps = 0.20, time = 1.0s / 0.0m, ESS = [581 352 793] -> [190  92 218], numSims = 24774\n",
       "\tmodel populations = [203, 110, 269], model weights = [0.45 0.16 0.38]<p>Finished iteration 9, eps = 0.19, time = 1.0s / 0.0m, ESS = [128 335 786] -> [ 28 130 342], numSims = 59518\n",
       "\tmodel populations = [301, 136, 375], model weights = [0.49 0.14 0.37]<p>Finished iteration 10, eps = 0.16, time = 1.0s / 0.0m, ESS = [117 379 873] -> [131  97 272], numSims = 107949\n",
       "\tmodel populations = [152, 126, 296], model weights = [0.41 0.19 0.4 ]<p>Finished iteration 11, eps = 0.15, time = 1.0s / 0.0m, ESS = [497 346 839] -> [173  91 236], numSims = 266426\n",
       "\tmodel populations = [208, 112, 277], model weights = [0.44 0.19 0.37]<p>Finished iteration 12, eps = 0.13, time = 1.0s / 0.0m, ESS = [470 286 802] -> [150  88 262], numSims = 591749\n",
       "\tmodel populations = [223, 100, 296], model weights = [0.44 0.17 0.39]<p>Finished iteration 13, eps = 0.13, time = 2.0s / 0.0m, ESS = [164 236 753] -> [ 50 143 307], numSims = 1455930\n",
       "\tmodel populations = [299, 164, 471], model weights = [0.48 0.15 0.36]<p>Finished iteration 14, eps = 0.12, time = 4.0s / 0.1m, ESS = [163 267 787] -> [ 37 125 338], numSims = 2504004\n",
       "\tmodel populations = [194, 139, 378], model weights = [0.52 0.15 0.34]<p>Finished iteration 15, eps = 0.11, time = 10.0s / 0.2m, ESS = [380 396 469] -> [192 185 123], numSims = 5679466\n",
       "\tmodel populations = [203, 202, 452], model weights = [0.46 0.17 0.37]<p>Finished iteration 16, eps = 0.11, time = 15.0s / 0.3m, ESS = [513 406 417] -> [163 121 216], numSims = 9415942\n",
       "\tmodel populations = [221, 157, 252], model weights = [0.48 0.19 0.33]<p>Finished iteration 17, eps = 0.10, time = 35.0s / 0.6m, ESS = [632 348 534] -> [234 123 143], numSims = 21188184\n",
       "\tmodel populations = [267, 141, 330], model weights = [0.44 0.17 0.39]<p>Finished iteration 18, eps = 0.10, time = 68.0s / 1.1m, ESS = [684 333 524] -> [248 135 117], numSims = 43142782\n",
       "\tmodel populations = [285, 143, 283], model weights = [0.45 0.17 0.38]<p>Finished iteration 19, eps = 0.09, time = 140.0s / 2.3m, ESS = [736 387 627] -> [218 120 162], numSims = 89126307\n",
       "\tmodel populations = [247, 132, 208], model weights = [0.46 0.16 0.39]<p>Finished iteration 20, eps = 0.09, time = 332.0s / 5.5m, ESS = [573 401 692] -> [250 206 359], numSims = 201409754\n",
       "\tmodel populations = [388, 228, 384], model weights = [0.46 0.17 0.37]"
      ],
      "text/plain": [
       "<IPython.core.display.HTML object>"
      ]
     },
     "metadata": {},
     "output_type": "display_data"
    },
    {
     "name": "stdout",
     "output_type": "stream",
     "text": [
      "Final population dists <= 0.09, ESS = [250 206 359]\n",
      "\tmodel populations = [388, 228, 384], model weights = [0.46 0.17 0.37]\n",
      "CPU times: user 29.9 s, sys: 2.82 s, total: 32.8 s\n",
      "Wall time: 10min 31s\n"
     ]
    },
    {
     "data": {
      "text/html": [
       "Starting ABC-SMC with population size of 1000 and sample size of 50 (~> 50) on 40 processes.<p>Finished iteration 0, eps = 55.26, time = 1.0s / 0.0m, ESS = [329 334 337] -> [134 184 182], numSims = 1000\n",
       "\tmodel populations = [134, 184, 182], model weights = [0.27 0.37 0.36]<p>Finished iteration 1, eps = 1.81, time = 1.0s / 0.0m, ESS = [292 499 513] -> [ 37 425  38], numSims = 2414\n",
       "\tmodel populations = [39, 512, 40], model weights = [0.08 0.84 0.08]<p>Finished iteration 2, eps = 1.81, time = 1.0s / 0.0m, ESS = [212 779 504] -> [ 62 255 183], numSims = 3071\n",
       "\tmodel populations = [66, 301, 503], model weights = [0.13 0.68 0.19]<p>Finished iteration 3, eps = 1.07, time = 1.0s / 0.0m, ESS = [ 51 888 831] -> [ 23  32 445], numSims = 3392\n",
       "\tmodel populations = [48, 33, 512], model weights = [0.39 0.22 0.4 ]<p>Finished iteration 4, eps = 0.80, time = 1.0s / 0.0m, ESS = [122 655 778] -> [ 71 179 250], numSims = 3450\n",
       "\tmodel populations = [89, 227, 296], model weights = [0.48 0.21 0.31]<p>Finished iteration 5, eps = 0.52, time = 1.0s / 0.0m, ESS = [227 677 906] -> [ 95 200 205], numSims = 3361\n",
       "\tmodel populations = [97, 213, 211], model weights = [0.47 0.24 0.29]<p>Finished iteration 6, eps = 0.36, time = 1.0s / 0.0m, ESS = [368 550 815] -> [136 140 224], numSims = 4110\n",
       "\tmodel populations = [147, 148, 233], model weights = [0.48 0.22 0.3 ]<p>Finished iteration 7, eps = 0.29, time = 1.0s / 0.0m, ESS = [460 470 723] -> [138 131 231], numSims = 6896\n",
       "\tmodel populations = [181, 146, 242], model weights = [0.49 0.23 0.28]<p>Finished iteration 8, eps = 0.24, time = 1.0s / 0.0m, ESS = [389 511 713] -> [ 96 173 231], numSims = 13489\n",
       "\tmodel populations = [180, 193, 251], model weights = [0.47 0.27 0.26]<p>Finished iteration 9, eps = 0.22, time = 1.0s / 0.0m, ESS = [412 367 738] -> [123 112 265], numSims = 29221\n",
       "\tmodel populations = [214, 245, 290], model weights = [0.45 0.3  0.24]<p>Finished iteration 10, eps = 0.20, time = 1.0s / 0.0m, ESS = [521 357 751] -> [162  97 241], numSims = 56655\n",
       "\tmodel populations = [200, 194, 286], model weights = [0.43 0.31 0.26]<p>Finished iteration 11, eps = 0.18, time = 1.0s / 0.0m, ESS = [559 458 717] -> [151 143 206], numSims = 122842\n",
       "\tmodel populations = [165, 167, 234], model weights = [0.37 0.34 0.28]<p>Finished iteration 12, eps = 0.16, time = 1.0s / 0.0m, ESS = [641 508 633] -> [166 169 165], numSims = 251894\n",
       "\tmodel populations = [185, 188, 180], model weights = [0.4  0.36 0.24]<p>Finished iteration 13, eps = 0.15, time = 1.0s / 0.0m, ESS = [607 540 601] -> [147 184 169], numSims = 582445\n",
       "\tmodel populations = [189, 223, 187], model weights = [0.39 0.38 0.23]<p>Finished iteration 14, eps = 0.14, time = 3.0s / 0.0m, ESS = [546 601 592] -> [148 199 153], numSims = 1476522\n",
       "\tmodel populations = [170, 240, 179], model weights = [0.36 0.43 0.21]<p>Finished iteration 15, eps = 0.13, time = 6.0s / 0.1m, ESS = [457 710 536] -> [111 238 151], numSims = 3403271\n",
       "\tmodel populations = [196, 275, 177], model weights = [0.38 0.43 0.19]<p>Finished iteration 16, eps = 0.12, time = 16.0s / 0.3m, ESS = [417 741 521] -> [129 238 133], numSims = 8763061\n",
       "\tmodel populations = [146, 279, 171], model weights = [0.34 0.45 0.21]<p>Finished iteration 17, eps = 0.11, time = 31.0s / 0.5m, ESS = [462 774 520] -> [133 221 146], numSims = 18017506\n",
       "\tmodel populations = [159, 256, 162], model weights = [0.36 0.44 0.2 ]<p>Finished iteration 18, eps = 0.10, time = 80.0s / 1.3m, ESS = [469 810 511] -> [119 231 150], numSims = 45403956\n",
       "\tmodel populations = [127, 259, 167], model weights = [0.3 0.5 0.2]<p>Finished iteration 19, eps = 0.10, time = 190.0s / 3.2m, ESS = [495 788 472] -> [136 238 126], numSims = 113404429\n",
       "\tmodel populations = [151, 290, 148], model weights = [0.3  0.53 0.17]<p>Finished iteration 20, eps = 0.10, time = 406.0s / 6.8m, ESS = [512 796 409] -> [222 401 196], numSims = 239993387\n",
       "\tmodel populations = [289, 492, 219], model weights = [0.33 0.5  0.17]"
      ],
      "text/plain": [
       "<IPython.core.display.HTML object>"
      ]
     },
     "metadata": {},
     "output_type": "display_data"
    },
    {
     "name": "stdout",
     "output_type": "stream",
     "text": [
      "Final population dists <= 0.10, ESS = [222 401 196]\n",
      "\tmodel populations = [289, 492, 219], model weights = [0.33 0.5  0.17]\n",
      "CPU times: user 29.4 s, sys: 1.66 s, total: 31.1 s\n",
      "Wall time: 12min 29s\n"
     ]
    },
    {
     "data": {
      "text/html": [
       "Starting ABC-SMC with population size of 1000 and sample size of 75 (~> 75) on 40 processes.<p>Finished iteration 0, eps = 56.00, time = 1.0s / 0.0m, ESS = [329 334 337] -> [134 184 182], numSims = 1000\n",
       "\tmodel populations = [134, 184, 182], model weights = [0.27 0.37 0.36]<p>Finished iteration 1, eps = 2.69, time = 1.0s / 0.0m, ESS = [301 496 513] -> [ 37 428  35], numSims = 2484\n",
       "\tmodel populations = [39, 509, 37], model weights = [0.08 0.84 0.08]<p>Finished iteration 2, eps = 1.68, time = 1.0s / 0.0m, ESS = [238 752 531] -> [ 53 283 164], numSims = 3086\n",
       "\tmodel populations = [54, 328, 398], model weights = [0.1  0.74 0.16]<p>Finished iteration 3, eps = 1.04, time = 1.0s / 0.0m, ESS = [ 83 857 840] -> [ 24  34 442], numSims = 3173\n",
       "\tmodel populations = [62, 34, 478], model weights = [0.29 0.3  0.41]<p>Finished iteration 4, eps = 0.80, time = 1.0s / 0.0m, ESS = [104 655 722] -> [ 51 174 275], numSims = 3261\n",
       "\tmodel populations = [111, 234, 337], model weights = [0.41 0.26 0.33]<p>Finished iteration 5, eps = 0.52, time = 1.0s / 0.0m, ESS = [129 678 925] -> [ 53 243 204], numSims = 3589\n",
       "\tmodel populations = [60, 257, 213], model weights = [0.42 0.29 0.29]<p>Finished iteration 6, eps = 0.36, time = 1.0s / 0.0m, ESS = [204 580 857] -> [114 175 211], numSims = 3247\n",
       "\tmodel populations = [166, 186, 220], model weights = [0.49 0.24 0.26]<p>Finished iteration 7, eps = 0.28, time = 1.0s / 0.0m, ESS = [426 548 729] -> [171 145 184], numSims = 4320\n",
       "\tmodel populations = [192, 149, 202], model weights = [0.49 0.25 0.27]<p>Finished iteration 8, eps = 0.23, time = 1.0s / 0.0m, ESS = [562 581 657] -> [157 178 165], numSims = 7877\n",
       "\tmodel populations = [177, 191, 172], model weights = [0.46 0.31 0.23]<p>Finished iteration 9, eps = 0.20, time = 1.0s / 0.0m, ESS = [583 575 604] -> [156 182 162], numSims = 18024\n",
       "\tmodel populations = [162, 200, 191], model weights = [0.41 0.34 0.25]<p>Finished iteration 10, eps = 0.18, time = 1.0s / 0.0m, ESS = [566 587 542] -> [160 211 129], numSims = 37862\n",
       "\tmodel populations = [172, 236, 139], model weights = [0.38 0.44 0.18]<p>Finished iteration 11, eps = 0.16, time = 1.0s / 0.0m, ESS = [562 603 516] -> [133 254 113], numSims = 83058\n",
       "\tmodel populations = [142, 272, 122], model weights = [0.3  0.54 0.17]<p>Finished iteration 12, eps = 0.14, time = 1.0s / 0.0m, ESS = [507 667 471] -> [139 251 110], numSims = 228453\n",
       "\tmodel populations = [156, 340, 124], model weights = [0.25 0.59 0.15]<p>Finished iteration 13, eps = 0.13, time = 2.0s / 0.0m, ESS = [513 830 394] -> [134 262 104], numSims = 571640\n",
       "\tmodel populations = [151, 348, 127], model weights = [0.24 0.6  0.16]<p>Finished iteration 14, eps = 0.12, time = 3.0s / 0.0m, ESS = [ 451 1036  333] -> [ 97 333  70], numSims = 1238033\n",
       "\tmodel populations = [112, 354, 77], model weights = [0.23 0.66 0.11]<p>Finished iteration 15, eps = 0.11, time = 6.0s / 0.1m, ESS = [ 362 1164  276] -> [ 83 366  51], numSims = 2855986\n",
       "\tmodel populations = [93, 396, 55], model weights = [0.21 0.71 0.08]<p>Finished iteration 16, eps = 0.11, time = 14.0s / 0.2m, ESS = [ 279 1193  238] -> [ 75 373  52], numSims = 7546267\n",
       "\tmodel populations = [88, 411, 57], model weights = [0.19 0.73 0.08]<p>Finished iteration 17, eps = 0.10, time = 30.0s / 0.5m, ESS = [ 246 1210  209] -> [ 68 386  46], numSims = 16556726\n",
       "\tmodel populations = [82, 421, 49], model weights = [0.17 0.77 0.06]<p>Finished iteration 18, eps = 0.09, time = 75.0s / 1.2m, ESS = [ 268 1223  195] -> [ 72 371  57], numSims = 42004885\n",
       "\tmodel populations = [78, 472, 64], model weights = [0.14 0.8  0.06]<p>Finished iteration 19, eps = 0.09, time = 184.0s / 3.1m, ESS = [ 224 1312  169] -> [ 56 402  42], numSims = 105863350\n",
       "\tmodel populations = [70, 505, 59], model weights = [0.12 0.83 0.06]<p>Finished iteration 20, eps = 0.09, time = 440.0s / 7.3m, ESS = [ 211 1442  152] -> [ 85 750  76], numSims = 239570507\n",
       "\tmodel populations = [105, 814, 81], model weights = [0.11 0.83 0.06]"
      ],
      "text/plain": [
       "<IPython.core.display.HTML object>"
      ]
     },
     "metadata": {},
     "output_type": "display_data"
    },
    {
     "name": "stdout",
     "output_type": "stream",
     "text": [
      "Final population dists <= 0.09, ESS = [ 85 750  76]\n",
      "\tmodel populations = [105, 814, 81], model weights = [0.11 0.83 0.06]\n",
      "CPU times: user 28.1 s, sys: 1.95 s, total: 30.1 s\n",
      "Wall time: 12min 48s\n"
     ]
    },
    {
     "data": {
      "text/html": [
       "Starting ABC-SMC with population size of 1000 and sample size of 100 (~> 100) on 40 processes.<p>Finished iteration 0, eps = 56.04, time = 1.0s / 0.0m, ESS = [329 334 337] -> [135 184 181], numSims = 1000\n",
       "\tmodel populations = [135, 184, 181], model weights = [0.27 0.37 0.36]<p>Finished iteration 1, eps = 2.46, time = 1.0s / 0.0m, ESS = [294 509 506] -> [ 30 439  31], numSims = 2495\n",
       "\tmodel populations = [31, 522, 33], model weights = [0.07 0.86 0.07]<p>Finished iteration 2, eps = 1.61, time = 1.0s / 0.0m, ESS = [179 717 520] -> [ 29 288 183], numSims = 2832\n",
       "\tmodel populations = [62, 344, 439], model weights = [0.14 0.72 0.13]<p>Finished iteration 3, eps = 0.95, time = 1.0s / 0.0m, ESS = [ 88 823 869] -> [ 36  19 445], numSims = 2968\n",
       "\tmodel populations = [57, 19, 493], model weights = [0.34 0.21 0.45]<p>Finished iteration 4, eps = 0.69, time = 1.0s / 0.0m, ESS = [192 667 670] -> [107 182 211], numSims = 3110\n",
       "\tmodel populations = [112, 211, 266], model weights = [0.35 0.28 0.37]<p>Finished iteration 5, eps = 0.45, time = 1.0s / 0.0m, ESS = [254 710 834] -> [106 221 173], numSims = 3031\n",
       "\tmodel populations = [113, 225, 180], model weights = [0.4  0.3  0.31]<p>Finished iteration 6, eps = 0.31, time = 1.0s / 0.0m, ESS = [334 695 785] -> [122 192 186], numSims = 3502\n",
       "\tmodel populations = [124, 201, 195], model weights = [0.46 0.29 0.25]<p>Finished iteration 7, eps = 0.24, time = 1.0s / 0.0m, ESS = [480 620 728] -> [141 189 170], numSims = 4706\n",
       "\tmodel populations = [155, 198, 178], model weights = [0.46 0.33 0.21]<p>Finished iteration 8, eps = 0.20, time = 1.0s / 0.0m, ESS = [560 622 660] -> [129 198 173], numSims = 9138\n",
       "\tmodel populations = [136, 207, 181], model weights = [0.41 0.37 0.22]<p>Finished iteration 9, eps = 0.18, time = 1.0s / 0.0m, ESS = [504 649 630] -> [117 232 151], numSims = 16820\n",
       "\tmodel populations = [137, 251, 166], model weights = [0.37 0.43 0.19]<p>Finished iteration 10, eps = 0.16, time = 1.0s / 0.0m, ESS = [461 730 567] -> [113 272 115], numSims = 38290\n",
       "\tmodel populations = [118, 309, 133], model weights = [0.3  0.54 0.16]<p>Finished iteration 11, eps = 0.14, time = 1.0s / 0.0m, ESS = [448 835 478] -> [ 96 299 105], numSims = 93204\n",
       "\tmodel populations = [104, 335, 112], model weights = [0.23 0.62 0.15]<p>Finished iteration 12, eps = 0.13, time = 1.0s / 0.0m, ESS = [ 374 1010  372] -> [ 79 354  67], numSims = 221564\n",
       "\tmodel populations = [83, 375, 73], model weights = [0.18 0.72 0.1 ]<p>Finished iteration 13, eps = 0.12, time = 2.0s / 0.0m, ESS = [ 248 1132  233] -> [ 57 402  41], numSims = 507598\n",
       "\tmodel populations = [72, 457, 45], model weights = [0.14 0.8  0.06]<p>Finished iteration 14, eps = 0.11, time = 3.0s / 0.0m, ESS = [ 198 1234  155] -> [ 64 411  25], numSims = 1202796\n",
       "\tmodel populations = [70, 469, 29], model weights = [0.13 0.83 0.04]<p>Finished iteration 15, eps = 0.10, time = 6.0s / 0.1m, ESS = [ 173 1337  140] -> [ 19 452  29], numSims = 2982445\n",
       "\tmodel populations = [35, 516, 33], model weights = [0.08 0.88 0.05]<p>Finished iteration 16, eps = 0.10, time = 14.0s / 0.2m, ESS = [ 116 1461  100] -> [ 19 468  13], numSims = 7109731\n",
       "\tmodel populations = [23, 527, 15], model weights = [0.07 0.91 0.02]<p>Finished iteration 17, eps = 0.09, time = 32.0s / 0.5m, ESS = [  97 1614   63] -> [ 15 475  10], numSims = 17282329\n",
       "\tmodel populations = [21, 530, 11], model weights = [0.07 0.92 0.01]<p>Finished iteration 18, eps = 0.08, time = 88.0s / 1.5m, ESS = [  69 1641   59] -> [ 11 475  14], numSims = 45527065\n",
       "\tmodel populations = [11, 520, 16], model weights = [0.04 0.94 0.02]<p>Finished iteration 19, eps = 0.08, time = 196.0s / 3.3m, ESS = [  48 1668   43] -> [ 16 476   8], numSims = 105310103\n",
       "\tmodel populations = [18, 516, 10], model weights = [0.04 0.95 0.01]<p>Finished iteration 20, eps = 0.08, time = 507.0s / 8.4m, ESS = [  67 1593   30] -> [ 27 830  13], numSims = 277706985\n",
       "\tmodel populations = [39, 947, 14], model weights = [0.04 0.95 0.01]"
      ],
      "text/plain": [
       "<IPython.core.display.HTML object>"
      ]
     },
     "metadata": {},
     "output_type": "display_data"
    },
    {
     "name": "stderr",
     "output_type": "stream",
     "text": [
      "/home/plaub/miniconda3/lib/python3.8/site-packages/joblib/externals/loky/process_executor.py:688: UserWarning: A worker stopped while some jobs were given to the executor. This can be caused by a too short worker timeout or by a memory leak.\n",
      "  warnings.warn(\n"
     ]
    },
    {
     "name": "stdout",
     "output_type": "stream",
     "text": [
      "Final population dists <= 0.08, ESS = [ 27 830  13]\n",
      "\tmodel populations = [39, 947, 14], model weights = [0.04 0.95 0.01]\n",
      "CPU times: user 27.5 s, sys: 2.89 s, total: 30.4 s\n",
      "Wall time: 14min 21s\n"
     ]
    },
    {
     "data": {
      "text/html": [
       "Starting ABC-SMC with population size of 1000 and sample size of 150 (~> 150) on 40 processes.<p>Finished iteration 0, eps = 55.65, time = 1.0s / 0.0m, ESS = [329 334 337] -> [134 184 182], numSims = 1000\n",
       "\tmodel populations = [134, 184, 182], model weights = [0.27 0.37 0.36]<p>Finished iteration 1, eps = 2.27, time = 1.0s / 0.0m, ESS = [301 500 508] -> [ 38 425  37], numSims = 2479\n",
       "\tmodel populations = [40, 507, 39], model weights = [0.08 0.84 0.08]<p>Finished iteration 2, eps = 1.71, time = 1.0s / 0.0m, ESS = [232 760 517] -> [ 55 263 182], numSims = 3101\n",
       "\tmodel populations = [65, 306, 438], model weights = [0.11 0.72 0.17]<p>Finished iteration 3, eps = 1.04, time = 1.0s / 0.0m, ESS = [133 866 818] -> [ 53  35 412], numSims = 3147\n",
       "\tmodel populations = [66, 36, 461], model weights = [0.3  0.29 0.41]<p>Finished iteration 4, eps = 0.76, time = 1.0s / 0.0m, ESS = [211 685 686] -> [101 179 220], numSims = 3318\n",
       "\tmodel populations = [112, 217, 264], model weights = [0.4  0.27 0.33]<p>Finished iteration 5, eps = 0.48, time = 1.0s / 0.0m, ESS = [298 786 795] -> [119 230 151], numSims = 2969\n",
       "\tmodel populations = [120, 235, 158], model weights = [0.5  0.25 0.25]<p>Finished iteration 6, eps = 0.32, time = 1.0s / 0.0m, ESS = [327 740 734] -> [111 228 161], numSims = 2988\n",
       "\tmodel populations = [120, 234, 167], model weights = [0.47 0.29 0.24]<p>Finished iteration 7, eps = 0.25, time = 1.0s / 0.0m, ESS = [356 657 682] -> [118 215 167], numSims = 4097\n",
       "\tmodel populations = [125, 223, 172], model weights = [0.44 0.33 0.24]<p>Finished iteration 8, eps = 0.21, time = 1.0s / 0.0m, ESS = [406 638 673] -> [111 227 162], numSims = 7006\n",
       "\tmodel populations = [136, 243, 176], model weights = [0.42 0.37 0.21]<p>Finished iteration 9, eps = 0.18, time = 1.0s / 0.0m, ESS = [428 693 661] -> [ 98 258 144], numSims = 16475\n",
       "\tmodel populations = [102, 285, 151], model weights = [0.31 0.5  0.19]<p>Finished iteration 10, eps = 0.16, time = 1.0s / 0.0m, ESS = [433 796 555] -> [ 83 319  98], numSims = 34436\n",
       "\tmodel populations = [124, 336, 105], model weights = [0.29 0.59 0.12]<p>Finished iteration 11, eps = 0.15, time = 1.0s / 0.0m, ESS = [314 962 380] -> [ 51 376  73], numSims = 67559\n",
       "\tmodel populations = [108, 459, 83], model weights = [0.23 0.68 0.08]<p>Finished iteration 12, eps = 0.14, time = 1.0s / 0.0m, ESS = [ 191 1224  241] -> [ 19 445  36], numSims = 155738\n",
       "\tmodel populations = [48, 497, 40], model weights = [0.14 0.81 0.05]<p>Finished iteration 13, eps = 0.13, time = 1.0s / 0.0m, ESS = [ 126 1507  156] -> [ 11 473  16], numSims = 370458\n",
       "\tmodel populations = [12, 511, 16], model weights = [0.04 0.94 0.02]<p>Finished iteration 14, eps = 0.12, time = 2.0s / 0.0m, ESS = [  83 1543   99] -> [ 14 473  13], numSims = 893780\n",
       "\tmodel populations = [15, 559, 15], model weights = [0.04 0.94 0.02]<p>Finished iteration 15, eps = 0.11, time = 5.0s / 0.1m, ESS = [  72 1369   59] -> [ 17 478   5], numSims = 2077419\n",
       "\tmodel populations = [18, 520, 5], model weights = [0.03 0.96 0.01]<p>Finished iteration 16, eps = 0.10, time = 11.0s / 0.2m, ESS = [  64 1445   29] -> [ 13 480   7], numSims = 5322081\n",
       "\tmodel populations = [14, 588, 9], model weights = [0.02 0.97 0.01]<p>Finished iteration 17, eps = 0.10, time = 24.0s / 0.4m, ESS = [  46 1603   26] -> [ 11 483   6], numSims = 11282867\n",
       "\tmodel populations = [12, 653, 6], model weights = [0.01 0.98 0.01]<p>Finished iteration 18, eps = 0.09, time = 51.0s / 0.8m, ESS = [  38 1653   16] -> [  7 489   4], numSims = 24171419\n",
       "\tmodel populations = [8, 551, 5], model weights = [0.01 0.99 0.  ]<p>Finished iteration 19, eps = 0.09, time = 114.0s / 1.9m, ESS = [  20 1689    9] -> [  5 493   2], numSims = 52628511\n",
       "\tmodel populations = [6, 591, 5], model weights = [0.01 0.99 0.  ]<p>Finished iteration 20, eps = 0.09, time = 294.0s / 4.9m, ESS = [  14 1712    5] -> [  5 858   1], numSims = 139585717\n",
       "\tmodel populations = [8, 990, 2], model weights = [0.01 0.99 0.  ]"
      ],
      "text/plain": [
       "<IPython.core.display.HTML object>"
      ]
     },
     "metadata": {},
     "output_type": "display_data"
    },
    {
     "name": "stdout",
     "output_type": "stream",
     "text": [
      "Final population dists <= 0.09, ESS = [  5 858   1]\n",
      "\tmodel populations = [8, 990, 2], model weights = [0.01 0.99 0.  ]\n",
      "CPU times: user 27 s, sys: 1.85 s, total: 28.9 s\n",
      "Wall time: 8min 36s\n"
     ]
    },
    {
     "data": {
      "text/html": [
       "Starting ABC-SMC with population size of 1000 and sample size of 200 (~> 200) on 40 processes.<p>Finished iteration 0, eps = 55.94, time = 1.0s / 0.0m, ESS = [329 334 337] -> [134 183 183], numSims = 1000\n",
       "\tmodel populations = [134, 183, 183], model weights = [0.27 0.37 0.37]<p>Finished iteration 1, eps = 2.17, time = 1.0s / 0.0m, ESS = [285 512 512] -> [ 33 438  29], numSims = 2444\n",
       "\tmodel populations = [35, 522, 30], model weights = [0.08 0.86 0.06]<p>Finished iteration 2, eps = 1.63, time = 1.0s / 0.0m, ESS = [217 785 519] -> [ 53 264 183], numSims = 3061\n",
       "\tmodel populations = [61, 307, 412], model weights = [0.1  0.75 0.15]<p>Finished iteration 3, eps = 0.95, time = 1.0s / 0.0m, ESS = [124 825 800] -> [ 40  32 428], numSims = 2888\n",
       "\tmodel populations = [72, 32, 481], model weights = [0.26 0.29 0.45]<p>Finished iteration 4, eps = 0.71, time = 1.0s / 0.0m, ESS = [186 586 707] -> [ 99 178 223], numSims = 2859\n",
       "\tmodel populations = [141, 229, 272], model weights = [0.42 0.24 0.34]<p>Finished iteration 5, eps = 0.45, time = 1.0s / 0.0m, ESS = [139 748 803] -> [102 224 174], numSims = 3015\n",
       "\tmodel populations = [107, 229, 188], model weights = [0.49 0.24 0.28]<p>Finished iteration 6, eps = 0.29, time = 1.0s / 0.0m, ESS = [175 723 727] -> [121 217 162], numSims = 2801\n",
       "\tmodel populations = [130, 222, 166], model weights = [0.48 0.28 0.23]<p>Finished iteration 7, eps = 0.22, time = 1.0s / 0.0m, ESS = [393 673 639] -> [131 236 133], numSims = 3530\n",
       "\tmodel populations = [134, 246, 136], model weights = [0.42 0.39 0.18]<p>Finished iteration 8, eps = 0.18, time = 1.0s / 0.0m, ESS = [535 598 596] -> [105 257 138], numSims = 5549\n",
       "\tmodel populations = [109, 304, 144], model weights = [0.32 0.51 0.17]<p>Finished iteration 9, eps = 0.16, time = 1.0s / 0.0m, ESS = [449 762 517] -> [ 79 330  91], numSims = 11541\n",
       "\tmodel populations = [82, 358, 94], model weights = [0.22 0.67 0.11]<p>Finished iteration 10, eps = 0.14, time = 1.0s / 0.0m, ESS = [ 343 1036  398] -> [ 43 419  38], numSims = 26895\n",
       "\tmodel populations = [46, 443, 57], model weights = [0.11 0.83 0.06]<p>Finished iteration 11, eps = 0.12, time = 1.0s / 0.0m, ESS = [ 208 1288  254] -> [ 25 454  21], numSims = 59647\n",
       "\tmodel populations = [26, 491, 22], model weights = [0.05 0.92 0.03]<p>Finished iteration 12, eps = 0.11, time = 1.0s / 0.0m, ESS = [ 104 1446   84] -> [ 10 483   7], numSims = 136092\n",
       "\tmodel populations = [11, 537, 8], model weights = [0.02 0.97 0.01]<p>Finished iteration 13, eps = 0.10, time = 1.0s / 0.0m, ESS = [  50 1560   25] -> [  0 492   5], numSims = 306200\n",
       "\tmodel populations = [0, 541, 6], model weights = [0.   0.99 0.01]<p>Finished iteration 14, eps = 0.10, time = 2.0s / 0.0m, ESS = [  19 1748   26] -> [  0 834   5], numSims = 831004\n",
       "\tmodel populations = [0, 907, 5], model weights = [0.   0.99 0.01]<p>Finished iteration 15, eps = 0.09, time = 2.0s / 0.0m, ESS = [   0 1765    9] -> [  0 499   0], numSims = 1089333\n",
       "\tmodel populations = [0, 578, 0], model weights = [0. 1. 0.]<p>Finished iteration 16, eps = 0.09, time = 2.0s / 0.0m, ESS = [   0 1736    2] -> [   0 1391    0], numSims = 3121681\n",
       "\tmodel populations = [0, 1603, 0], model weights = [0. 1. 0.]<p>Finished iteration 17, eps = 0.08, time = 2.0s / 0.0m, ESS = [   0 1777    0] -> [  0 500   0], numSims = 1910433\n",
       "\tmodel populations = [0, 551, 0], model weights = [0. 1. 0.]<p>Finished iteration 18, eps = 0.08, time = 7.0s / 0.1m, ESS = [   0 1775    0] -> [  0 500   0], numSims = 9097500\n",
       "\tmodel populations = [0, 580, 0], model weights = [0. 1. 0.]<p>Finished iteration 19, eps = 0.07, time = 13.0s / 0.2m, ESS = [   0 1736    0] -> [  0 500   0], numSims = 17720267\n",
       "\tmodel populations = [0, 595, 0], model weights = [0. 1. 0.]<p>Finished iteration 20, eps = 0.07, time = 34.0s / 0.6m, ESS = [   0 1643    0] -> [  0 778   0], numSims = 46160394\n",
       "\tmodel populations = [0, 1000, 0], model weights = [0. 1. 0.]"
      ],
      "text/plain": [
       "<IPython.core.display.HTML object>"
      ]
     },
     "metadata": {},
     "output_type": "display_data"
    },
    {
     "name": "stderr",
     "output_type": "stream",
     "text": [
      "/home/plaub/miniconda3/lib/python3.8/site-packages/approxbayescomp/smc.py:371: RuntimeWarning: invalid value encountered in double_scalars\n",
      "  np.sum(weights[ms == m]) ** 2\n"
     ]
    },
    {
     "name": "stdout",
     "output_type": "stream",
     "text": [
      "Final population dists <= 0.07, ESS = [  0 778   0]\n",
      "\tmodel populations = [0, 1000, 0], model weights = [0. 1. 0.]\n",
      "CPU times: user 25.9 s, sys: 2.04 s, total: 27.9 s\n",
      "Wall time: 1min 17s\n"
     ]
    }
   ],
   "source": [
    "model_proba_abc = pd.DataFrame(\n",
    "    {\"model_data\": [], \"model_fit\": [], \"ss\": [], \"model_probability_ABC\": []}\n",
    ")\n",
    "\n",
    "# model_data = \"lognormal\"\n",
    "for model_data in models_data:\n",
    "    sevs = claim_data[model_data]\n",
    "    for ss in sample_sizes:\n",
    "        uData = sevs[:ss]\n",
    "        %time fit = abc.smc(numItersData, popSizeModels, uData, models, **smcArgs)\n",
    "        for k in range(len(models)):\n",
    "            weights = fit.weights[fit.models == k]\n",
    "            res_mp = pd.DataFrame(\n",
    "                {\n",
    "                    \"model_data\": pd.Series(model_data),\n",
    "                    \"model_fit\": pd.Series([models_fitted[k]]),\n",
    "                    \"ss\": np.array([ss]),\n",
    "                    \"model_probability_ABC\": pd.Series(\n",
    "                        np.sum(fit.weights[fit.models == k])\n",
    "                    ),\n",
    "                }\n",
    "            )\n",
    "            model_proba_abc = pd.concat([model_proba_abc, res_mp])\n",
    "            model_proba_abc"
   ]
  },
  {
   "cell_type": "markdown",
   "metadata": {},
   "source": [
    "## True posterior samples\n",
    "\n",
    "We run a Bayesian analysis on the individual claim data and compuet the model probabilities when a Weibull or a gamma distribution is assumed. The prior distribution on the parameters are taken as independent uniform distribution (as in the ABC approach). \n",
    "\n",
    "### Fitting a Weibull and a gamma model to the individual loss data"
   ]
  },
  {
   "cell_type": "code",
   "execution_count": 9,
   "metadata": {
    "lines_to_end_of_cell_marker": 2
   },
   "outputs": [
    {
     "name": "stdout",
     "output_type": "stream",
     "text": [
      "Fitting a gamma model to 25 data points generated from a lognormal model\n"
     ]
    },
    {
     "name": "stderr",
     "output_type": "stream",
     "text": [
      "Initializing SMC sampler...\n",
      "Sampling 1 chain in 1 job\n",
      "Stage:   0 Beta: 0.010\n",
      "Stage:   1 Beta: 0.047\n",
      "Stage:   2 Beta: 0.129\n",
      "Stage:   3 Beta: 0.277\n",
      "Stage:   4 Beta: 0.779\n",
      "Stage:   5 Beta: 1.000\n"
     ]
    },
    {
     "name": "stdout",
     "output_type": "stream",
     "text": [
      "CPU times: user 1.44 s, sys: 187 ms, total: 1.62 s\n",
      "Wall time: 4.91 s\n",
      "Fitting a gamma model to 50 data points generated from a lognormal model\n"
     ]
    },
    {
     "name": "stderr",
     "output_type": "stream",
     "text": [
      "Initializing SMC sampler...\n",
      "Sampling 1 chain in 1 job\n",
      "Stage:   0 Beta: 0.005\n",
      "Stage:   1 Beta: 0.024\n",
      "Stage:   2 Beta: 0.068\n",
      "Stage:   3 Beta: 0.153\n",
      "Stage:   4 Beta: 0.433\n",
      "Stage:   5 Beta: 1.000\n"
     ]
    },
    {
     "name": "stdout",
     "output_type": "stream",
     "text": [
      "CPU times: user 1.06 s, sys: 4.45 ms, total: 1.07 s\n",
      "Wall time: 1.06 s\n",
      "Fitting a gamma model to 75 data points generated from a lognormal model\n"
     ]
    },
    {
     "name": "stderr",
     "output_type": "stream",
     "text": [
      "Initializing SMC sampler...\n",
      "Sampling 1 chain in 1 job\n",
      "Stage:   0 Beta: 0.003\n",
      "Stage:   1 Beta: 0.016\n",
      "Stage:   2 Beta: 0.044\n",
      "Stage:   3 Beta: 0.095\n",
      "Stage:   4 Beta: 0.272\n",
      "Stage:   5 Beta: 0.913\n",
      "Stage:   6 Beta: 1.000\n"
     ]
    },
    {
     "name": "stdout",
     "output_type": "stream",
     "text": [
      "CPU times: user 1.29 s, sys: 24.8 ms, total: 1.32 s\n",
      "Wall time: 1.31 s\n",
      "Fitting a gamma model to 100 data points generated from a lognormal model\n"
     ]
    },
    {
     "name": "stderr",
     "output_type": "stream",
     "text": [
      "Initializing SMC sampler...\n",
      "Sampling 1 chain in 1 job\n",
      "Stage:   0 Beta: 0.002\n",
      "Stage:   1 Beta: 0.012\n",
      "Stage:   2 Beta: 0.032\n",
      "Stage:   3 Beta: 0.070\n",
      "Stage:   4 Beta: 0.197\n",
      "Stage:   5 Beta: 0.657\n",
      "Stage:   6 Beta: 1.000\n"
     ]
    },
    {
     "name": "stdout",
     "output_type": "stream",
     "text": [
      "CPU times: user 1.09 s, sys: 7.59 ms, total: 1.1 s\n",
      "Wall time: 1.1 s\n",
      "Fitting a gamma model to 150 data points generated from a lognormal model\n"
     ]
    },
    {
     "name": "stderr",
     "output_type": "stream",
     "text": [
      "Initializing SMC sampler...\n",
      "Sampling 1 chain in 1 job\n",
      "Stage:   0 Beta: 0.002\n",
      "Stage:   1 Beta: 0.008\n",
      "Stage:   2 Beta: 0.022\n",
      "Stage:   3 Beta: 0.048\n",
      "Stage:   4 Beta: 0.137\n",
      "Stage:   5 Beta: 0.451\n",
      "Stage:   6 Beta: 1.000\n"
     ]
    },
    {
     "name": "stdout",
     "output_type": "stream",
     "text": [
      "CPU times: user 1.12 s, sys: 7.6 ms, total: 1.12 s\n",
      "Wall time: 1.12 s\n",
      "Fitting a gamma model to 200 data points generated from a lognormal model\n"
     ]
    },
    {
     "name": "stderr",
     "output_type": "stream",
     "text": [
      "Initializing SMC sampler...\n",
      "Sampling 1 chain in 1 job\n",
      "Stage:   0 Beta: 0.001\n",
      "Stage:   1 Beta: 0.006\n",
      "Stage:   2 Beta: 0.016\n",
      "Stage:   3 Beta: 0.035\n",
      "Stage:   4 Beta: 0.098\n",
      "Stage:   5 Beta: 0.331\n",
      "Stage:   6 Beta: 1.000\n"
     ]
    },
    {
     "name": "stdout",
     "output_type": "stream",
     "text": [
      "CPU times: user 1.31 s, sys: 6.74 ms, total: 1.31 s\n",
      "Wall time: 1.31 s\n",
      "Fitting a lognormal model to 25 data points generated from a lognormal model\n"
     ]
    },
    {
     "name": "stderr",
     "output_type": "stream",
     "text": [
      "Initializing SMC sampler...\n",
      "Sampling 1 chain in 1 job\n",
      "Stage:   0 Beta: 0.008\n",
      "Stage:   1 Beta: 0.046\n",
      "Stage:   2 Beta: 0.127\n",
      "Stage:   3 Beta: 0.292\n",
      "Stage:   4 Beta: 0.791\n",
      "Stage:   5 Beta: 1.000\n"
     ]
    },
    {
     "name": "stdout",
     "output_type": "stream",
     "text": [
      "CPU times: user 1.08 s, sys: 88.3 ms, total: 1.17 s\n",
      "Wall time: 3.66 s\n",
      "Fitting a lognormal model to 50 data points generated from a lognormal model\n"
     ]
    },
    {
     "name": "stderr",
     "output_type": "stream",
     "text": [
      "Initializing SMC sampler...\n",
      "Sampling 1 chain in 1 job\n",
      "Stage:   0 Beta: 0.004\n",
      "Stage:   1 Beta: 0.023\n",
      "Stage:   2 Beta: 0.064\n",
      "Stage:   3 Beta: 0.152\n",
      "Stage:   4 Beta: 0.416\n",
      "Stage:   5 Beta: 1.000\n"
     ]
    },
    {
     "name": "stdout",
     "output_type": "stream",
     "text": [
      "CPU times: user 1.23 s, sys: 28.2 ms, total: 1.26 s\n",
      "Wall time: 1.26 s\n",
      "Fitting a lognormal model to 75 data points generated from a lognormal model\n"
     ]
    },
    {
     "name": "stderr",
     "output_type": "stream",
     "text": [
      "Initializing SMC sampler...\n",
      "Sampling 1 chain in 1 job\n",
      "Stage:   0 Beta: 0.003\n",
      "Stage:   1 Beta: 0.015\n",
      "Stage:   2 Beta: 0.042\n",
      "Stage:   3 Beta: 0.097\n",
      "Stage:   4 Beta: 0.264\n",
      "Stage:   5 Beta: 0.866\n",
      "Stage:   6 Beta: 1.000\n"
     ]
    },
    {
     "name": "stdout",
     "output_type": "stream",
     "text": [
      "CPU times: user 1.08 s, sys: 0 ns, total: 1.08 s\n",
      "Wall time: 1.07 s\n",
      "Fitting a lognormal model to 100 data points generated from a lognormal model\n"
     ]
    },
    {
     "name": "stderr",
     "output_type": "stream",
     "text": [
      "Initializing SMC sampler...\n",
      "Sampling 1 chain in 1 job\n",
      "Stage:   0 Beta: 0.002\n",
      "Stage:   1 Beta: 0.011\n",
      "Stage:   2 Beta: 0.030\n",
      "Stage:   3 Beta: 0.067\n",
      "Stage:   4 Beta: 0.183\n",
      "Stage:   5 Beta: 0.588\n",
      "Stage:   6 Beta: 1.000\n"
     ]
    },
    {
     "name": "stdout",
     "output_type": "stream",
     "text": [
      "CPU times: user 1.28 s, sys: 0 ns, total: 1.28 s\n",
      "Wall time: 1.28 s\n",
      "Fitting a lognormal model to 150 data points generated from a lognormal model\n"
     ]
    },
    {
     "name": "stderr",
     "output_type": "stream",
     "text": [
      "Initializing SMC sampler...\n",
      "Sampling 1 chain in 1 job\n",
      "Stage:   0 Beta: 0.001\n",
      "Stage:   1 Beta: 0.008\n",
      "Stage:   2 Beta: 0.021\n",
      "Stage:   3 Beta: 0.047\n",
      "Stage:   4 Beta: 0.129\n",
      "Stage:   5 Beta: 0.414\n",
      "Stage:   6 Beta: 1.000\n"
     ]
    },
    {
     "name": "stdout",
     "output_type": "stream",
     "text": [
      "CPU times: user 1.09 s, sys: 4.03 ms, total: 1.09 s\n",
      "Wall time: 1.09 s\n",
      "Fitting a lognormal model to 200 data points generated from a lognormal model\n"
     ]
    },
    {
     "name": "stderr",
     "output_type": "stream",
     "text": [
      "Initializing SMC sampler...\n",
      "Sampling 1 chain in 1 job\n",
      "Stage:   0 Beta: 0.001\n",
      "Stage:   1 Beta: 0.006\n",
      "Stage:   2 Beta: 0.015\n",
      "Stage:   3 Beta: 0.036\n",
      "Stage:   4 Beta: 0.096\n",
      "Stage:   5 Beta: 0.313\n",
      "Stage:   6 Beta: 1.000\n"
     ]
    },
    {
     "name": "stdout",
     "output_type": "stream",
     "text": [
      "CPU times: user 1.3 s, sys: 8.31 ms, total: 1.31 s\n",
      "Wall time: 1.31 s\n",
      "Fitting a weibull model to 25 data points generated from a lognormal model\n"
     ]
    },
    {
     "name": "stderr",
     "output_type": "stream",
     "text": [
      "Initializing SMC sampler...\n",
      "Sampling 1 chain in 1 job\n",
      "Stage:   0 Beta: 0.012\n",
      "Stage:   1 Beta: 0.049\n",
      "Stage:   2 Beta: 0.114\n",
      "Stage:   3 Beta: 0.249\n",
      "Stage:   4 Beta: 0.754\n",
      "Stage:   5 Beta: 1.000\n"
     ]
    },
    {
     "name": "stdout",
     "output_type": "stream",
     "text": [
      "CPU times: user 1.13 s, sys: 100 ms, total: 1.23 s\n",
      "Wall time: 4.16 s\n",
      "Fitting a weibull model to 50 data points generated from a lognormal model\n"
     ]
    },
    {
     "name": "stderr",
     "output_type": "stream",
     "text": [
      "Initializing SMC sampler...\n",
      "Sampling 1 chain in 1 job\n",
      "Stage:   0 Beta: 0.006\n",
      "Stage:   1 Beta: 0.025\n",
      "Stage:   2 Beta: 0.060\n",
      "Stage:   3 Beta: 0.135\n",
      "Stage:   4 Beta: 0.376\n",
      "Stage:   5 Beta: 1.000\n"
     ]
    },
    {
     "name": "stdout",
     "output_type": "stream",
     "text": [
      "CPU times: user 1.35 s, sys: 16.4 ms, total: 1.36 s\n",
      "Wall time: 1.36 s\n",
      "Fitting a weibull model to 75 data points generated from a lognormal model\n"
     ]
    },
    {
     "name": "stderr",
     "output_type": "stream",
     "text": [
      "Initializing SMC sampler...\n",
      "Sampling 1 chain in 1 job\n",
      "Stage:   0 Beta: 0.004\n",
      "Stage:   1 Beta: 0.017\n",
      "Stage:   2 Beta: 0.039\n",
      "Stage:   3 Beta: 0.085\n",
      "Stage:   4 Beta: 0.236\n",
      "Stage:   5 Beta: 0.774\n",
      "Stage:   6 Beta: 1.000\n"
     ]
    },
    {
     "name": "stdout",
     "output_type": "stream",
     "text": [
      "CPU times: user 1.17 s, sys: 0 ns, total: 1.17 s\n",
      "Wall time: 1.17 s\n",
      "Fitting a weibull model to 100 data points generated from a lognormal model\n"
     ]
    },
    {
     "name": "stderr",
     "output_type": "stream",
     "text": [
      "Initializing SMC sampler...\n",
      "Sampling 1 chain in 1 job\n",
      "Stage:   0 Beta: 0.003\n",
      "Stage:   1 Beta: 0.012\n",
      "Stage:   2 Beta: 0.029\n",
      "Stage:   3 Beta: 0.063\n",
      "Stage:   4 Beta: 0.173\n",
      "Stage:   5 Beta: 0.587\n",
      "Stage:   6 Beta: 1.000\n"
     ]
    },
    {
     "name": "stdout",
     "output_type": "stream",
     "text": [
      "CPU times: user 1.19 s, sys: 0 ns, total: 1.19 s\n",
      "Wall time: 1.19 s\n",
      "Fitting a weibull model to 150 data points generated from a lognormal model\n"
     ]
    },
    {
     "name": "stderr",
     "output_type": "stream",
     "text": [
      "Initializing SMC sampler...\n",
      "Sampling 1 chain in 1 job\n",
      "Stage:   0 Beta: 0.002\n",
      "Stage:   1 Beta: 0.008\n",
      "Stage:   2 Beta: 0.019\n",
      "Stage:   3 Beta: 0.042\n",
      "Stage:   4 Beta: 0.119\n",
      "Stage:   5 Beta: 0.395\n",
      "Stage:   6 Beta: 1.000\n"
     ]
    },
    {
     "name": "stdout",
     "output_type": "stream",
     "text": [
      "CPU times: user 1.27 s, sys: 0 ns, total: 1.27 s\n",
      "Wall time: 1.27 s\n",
      "Fitting a weibull model to 200 data points generated from a lognormal model\n"
     ]
    },
    {
     "name": "stderr",
     "output_type": "stream",
     "text": [
      "Initializing SMC sampler...\n",
      "Sampling 1 chain in 1 job\n",
      "Stage:   0 Beta: 0.001\n",
      "Stage:   1 Beta: 0.006\n",
      "Stage:   2 Beta: 0.014\n",
      "Stage:   3 Beta: 0.031\n",
      "Stage:   4 Beta: 0.085\n",
      "Stage:   5 Beta: 0.280\n",
      "Stage:   6 Beta: 0.961\n",
      "Stage:   7 Beta: 1.000\n"
     ]
    },
    {
     "name": "stdout",
     "output_type": "stream",
     "text": [
      "CPU times: user 1.57 s, sys: 0 ns, total: 1.57 s\n",
      "Wall time: 1.57 s\n"
     ]
    }
   ],
   "source": [
    "Bayesian_Summary = pd.DataFrame(\n",
    "    {\n",
    "        \"model_data\": [],\n",
    "        \"model_fit\": [],\n",
    "        \"ss\": [],\n",
    "        \"param_1\": [],\n",
    "        \"param_2\": [],\n",
    "        \"marginal_log_likelihood\": [],\n",
    "    }\n",
    ")\n",
    "\n",
    "for model_data in models_data:\n",
    "    sevs = claim_data[model_data]\n",
    "    for model_fitted in models_fitted:\n",
    "\n",
    "        for ss in sample_sizes:\n",
    "            uData = sevs[:ss]\n",
    "            print(\n",
    "                f\"Fitting a {model_fitted} model to {len(uData)} data points generated from a {model_data} model\"\n",
    "            )\n",
    "\n",
    "            if model_fitted == \"gamma\":\n",
    "                with pm.Model() as model_sev:\n",
    "                    r = pm.Uniform(\"param_1\", lower=0, upper=5)\n",
    "                    m = pm.Uniform(\"param_2\", lower=0, upper=100)\n",
    "                    U = pm.Gamma(\"U\", alpha=r, beta=1 / m, observed=uData)\n",
    "                    %time trace = pm.sample_smc(popSize, random_seed=1, chains=1)\n",
    "\n",
    "            elif model_fitted == \"lognormal\":\n",
    "                with pm.Model() as model_sev:\n",
    "                    μ = pm.Uniform(\"param_1\", lower=-20, upper=20)\n",
    "                    σ = pm.Uniform(\"param_2\", lower=0, upper=5)\n",
    "                    U = pm.Lognormal(\"U\", mu=μ, sigma=σ, observed=uData)\n",
    "                    %time trace = pm.sample_smc(popSize, random_seed=1, chains=1)\n",
    "\n",
    "            elif model_fitted == \"weibull\":\n",
    "                with pm.Model() as model_sev:\n",
    "                    k = pm.Uniform(\"param_1\", lower=1e-1, upper=5)\n",
    "                    δ = pm.Uniform(\"param_2\", lower=0, upper=100)\n",
    "                    U = pm.Weibull(\"U\", alpha=k, beta=δ, observed=uData)\n",
    "                    %time trace = pm.sample_smc(popSize, random_seed=1, chains=1)\n",
    "\n",
    "            ll = trace.report.log_marginal_likelihood[0]\n",
    "\n",
    "            res = pd.DataFrame(\n",
    "                {\n",
    "                    \"model_data\": [model_data],\n",
    "                    \"model_fit\": [model_fitted],\n",
    "                    \"ss\": [ss],\n",
    "                    \"param_1\": [trace[\"param_1\"].mean()],\n",
    "                    \"param_2\": [trace[\"param_2\"].mean()],\n",
    "                    \"marginal_log_likelihood\": [ll],\n",
    "                }\n",
    "            )\n",
    "            Bayesian_Summary = pd.concat([Bayesian_Summary, res])"
   ]
  },
  {
   "cell_type": "code",
   "execution_count": 10,
   "metadata": {},
   "outputs": [
    {
     "data": {
      "text/html": [
       "<div>\n",
       "<style scoped>\n",
       "    .dataframe tbody tr th:only-of-type {\n",
       "        vertical-align: middle;\n",
       "    }\n",
       "\n",
       "    .dataframe tbody tr th {\n",
       "        vertical-align: top;\n",
       "    }\n",
       "\n",
       "    .dataframe thead th {\n",
       "        text-align: right;\n",
       "    }\n",
       "</style>\n",
       "<table border=\"1\" class=\"dataframe\">\n",
       "  <thead>\n",
       "    <tr style=\"text-align: right;\">\n",
       "      <th></th>\n",
       "      <th>model_data</th>\n",
       "      <th>model_fit</th>\n",
       "      <th>ss</th>\n",
       "      <th>param_1</th>\n",
       "      <th>param_2</th>\n",
       "      <th>marginal_log_likelihood</th>\n",
       "    </tr>\n",
       "  </thead>\n",
       "  <tbody>\n",
       "    <tr>\n",
       "      <th>0</th>\n",
       "      <td>lognormal</td>\n",
       "      <td>gamma</td>\n",
       "      <td>25.0</td>\n",
       "      <td>1.452940</td>\n",
       "      <td>1.338451</td>\n",
       "      <td>-44.106862</td>\n",
       "    </tr>\n",
       "    <tr>\n",
       "      <th>0</th>\n",
       "      <td>lognormal</td>\n",
       "      <td>gamma</td>\n",
       "      <td>50.0</td>\n",
       "      <td>1.260282</td>\n",
       "      <td>1.540875</td>\n",
       "      <td>-86.467702</td>\n",
       "    </tr>\n",
       "    <tr>\n",
       "      <th>0</th>\n",
       "      <td>lognormal</td>\n",
       "      <td>gamma</td>\n",
       "      <td>75.0</td>\n",
       "      <td>1.325229</td>\n",
       "      <td>1.327695</td>\n",
       "      <td>-120.298522</td>\n",
       "    </tr>\n",
       "    <tr>\n",
       "      <th>0</th>\n",
       "      <td>lognormal</td>\n",
       "      <td>gamma</td>\n",
       "      <td>100.0</td>\n",
       "      <td>1.404371</td>\n",
       "      <td>1.180437</td>\n",
       "      <td>-152.491596</td>\n",
       "    </tr>\n",
       "    <tr>\n",
       "      <th>0</th>\n",
       "      <td>lognormal</td>\n",
       "      <td>gamma</td>\n",
       "      <td>150.0</td>\n",
       "      <td>1.350877</td>\n",
       "      <td>1.294970</td>\n",
       "      <td>-235.508674</td>\n",
       "    </tr>\n",
       "    <tr>\n",
       "      <th>0</th>\n",
       "      <td>lognormal</td>\n",
       "      <td>gamma</td>\n",
       "      <td>200.0</td>\n",
       "      <td>1.385706</td>\n",
       "      <td>1.198068</td>\n",
       "      <td>-301.205588</td>\n",
       "    </tr>\n",
       "    <tr>\n",
       "      <th>0</th>\n",
       "      <td>lognormal</td>\n",
       "      <td>lognormal</td>\n",
       "      <td>25.0</td>\n",
       "      <td>0.157524</td>\n",
       "      <td>1.017816</td>\n",
       "      <td>-44.897210</td>\n",
       "    </tr>\n",
       "    <tr>\n",
       "      <th>0</th>\n",
       "      <td>lognormal</td>\n",
       "      <td>lognormal</td>\n",
       "      <td>50.0</td>\n",
       "      <td>0.154357</td>\n",
       "      <td>1.021445</td>\n",
       "      <td>-85.473633</td>\n",
       "    </tr>\n",
       "    <tr>\n",
       "      <th>0</th>\n",
       "      <td>lognormal</td>\n",
       "      <td>lognormal</td>\n",
       "      <td>75.0</td>\n",
       "      <td>0.103541</td>\n",
       "      <td>0.958989</td>\n",
       "      <td>-117.065667</td>\n",
       "    </tr>\n",
       "    <tr>\n",
       "      <th>0</th>\n",
       "      <td>lognormal</td>\n",
       "      <td>lognormal</td>\n",
       "      <td>100.0</td>\n",
       "      <td>0.082713</td>\n",
       "      <td>0.910577</td>\n",
       "      <td>-147.395901</td>\n",
       "    </tr>\n",
       "    <tr>\n",
       "      <th>0</th>\n",
       "      <td>lognormal</td>\n",
       "      <td>lognormal</td>\n",
       "      <td>150.0</td>\n",
       "      <td>0.126745</td>\n",
       "      <td>0.931352</td>\n",
       "      <td>-227.963629</td>\n",
       "    </tr>\n",
       "    <tr>\n",
       "      <th>0</th>\n",
       "      <td>lognormal</td>\n",
       "      <td>lognormal</td>\n",
       "      <td>200.0</td>\n",
       "      <td>0.090836</td>\n",
       "      <td>0.913743</td>\n",
       "      <td>-290.913671</td>\n",
       "    </tr>\n",
       "    <tr>\n",
       "      <th>0</th>\n",
       "      <td>lognormal</td>\n",
       "      <td>weibull</td>\n",
       "      <td>25.0</td>\n",
       "      <td>1.288980</td>\n",
       "      <td>1.947810</td>\n",
       "      <td>-44.276544</td>\n",
       "    </tr>\n",
       "    <tr>\n",
       "      <th>0</th>\n",
       "      <td>lognormal</td>\n",
       "      <td>weibull</td>\n",
       "      <td>50.0</td>\n",
       "      <td>1.108823</td>\n",
       "      <td>1.957103</td>\n",
       "      <td>-87.246319</td>\n",
       "    </tr>\n",
       "    <tr>\n",
       "      <th>0</th>\n",
       "      <td>lognormal</td>\n",
       "      <td>weibull</td>\n",
       "      <td>75.0</td>\n",
       "      <td>1.124095</td>\n",
       "      <td>1.804692</td>\n",
       "      <td>-121.585914</td>\n",
       "    </tr>\n",
       "    <tr>\n",
       "      <th>0</th>\n",
       "      <td>lognormal</td>\n",
       "      <td>weibull</td>\n",
       "      <td>100.0</td>\n",
       "      <td>1.155493</td>\n",
       "      <td>1.730290</td>\n",
       "      <td>-154.420775</td>\n",
       "    </tr>\n",
       "    <tr>\n",
       "      <th>0</th>\n",
       "      <td>lognormal</td>\n",
       "      <td>weibull</td>\n",
       "      <td>150.0</td>\n",
       "      <td>1.125347</td>\n",
       "      <td>1.816000</td>\n",
       "      <td>-237.945842</td>\n",
       "    </tr>\n",
       "    <tr>\n",
       "      <th>0</th>\n",
       "      <td>lognormal</td>\n",
       "      <td>weibull</td>\n",
       "      <td>200.0</td>\n",
       "      <td>1.137720</td>\n",
       "      <td>1.730878</td>\n",
       "      <td>-304.734223</td>\n",
       "    </tr>\n",
       "  </tbody>\n",
       "</table>\n",
       "</div>"
      ],
      "text/plain": [
       "  model_data  model_fit     ss   param_1   param_2  marginal_log_likelihood\n",
       "0  lognormal      gamma   25.0  1.452940  1.338451               -44.106862\n",
       "0  lognormal      gamma   50.0  1.260282  1.540875               -86.467702\n",
       "0  lognormal      gamma   75.0  1.325229  1.327695              -120.298522\n",
       "0  lognormal      gamma  100.0  1.404371  1.180437              -152.491596\n",
       "0  lognormal      gamma  150.0  1.350877  1.294970              -235.508674\n",
       "0  lognormal      gamma  200.0  1.385706  1.198068              -301.205588\n",
       "0  lognormal  lognormal   25.0  0.157524  1.017816               -44.897210\n",
       "0  lognormal  lognormal   50.0  0.154357  1.021445               -85.473633\n",
       "0  lognormal  lognormal   75.0  0.103541  0.958989              -117.065667\n",
       "0  lognormal  lognormal  100.0  0.082713  0.910577              -147.395901\n",
       "0  lognormal  lognormal  150.0  0.126745  0.931352              -227.963629\n",
       "0  lognormal  lognormal  200.0  0.090836  0.913743              -290.913671\n",
       "0  lognormal    weibull   25.0  1.288980  1.947810               -44.276544\n",
       "0  lognormal    weibull   50.0  1.108823  1.957103               -87.246319\n",
       "0  lognormal    weibull   75.0  1.124095  1.804692              -121.585914\n",
       "0  lognormal    weibull  100.0  1.155493  1.730290              -154.420775\n",
       "0  lognormal    weibull  150.0  1.125347  1.816000              -237.945842\n",
       "0  lognormal    weibull  200.0  1.137720  1.730878              -304.734223"
      ]
     },
     "execution_count": 10,
     "metadata": {},
     "output_type": "execute_result"
    }
   ],
   "source": [
    "Bayesian_Summary"
   ]
  },
  {
   "cell_type": "code",
   "execution_count": 11,
   "metadata": {},
   "outputs": [
    {
     "data": {
      "text/html": [
       "<div>\n",
       "<style scoped>\n",
       "    .dataframe tbody tr th:only-of-type {\n",
       "        vertical-align: middle;\n",
       "    }\n",
       "\n",
       "    .dataframe tbody tr th {\n",
       "        vertical-align: top;\n",
       "    }\n",
       "\n",
       "    .dataframe thead th {\n",
       "        text-align: right;\n",
       "    }\n",
       "</style>\n",
       "<table border=\"1\" class=\"dataframe\">\n",
       "  <thead>\n",
       "    <tr style=\"text-align: right;\">\n",
       "      <th></th>\n",
       "      <th>model_data</th>\n",
       "      <th>model_fit</th>\n",
       "      <th>ss</th>\n",
       "      <th>param_1</th>\n",
       "      <th>param_2</th>\n",
       "      <th>marginal_log_likelihood_x</th>\n",
       "      <th>marginal_log_likelihood_y</th>\n",
       "      <th>BF_x</th>\n",
       "      <th>BF_y</th>\n",
       "      <th>model_probability</th>\n",
       "    </tr>\n",
       "  </thead>\n",
       "  <tbody>\n",
       "    <tr>\n",
       "      <th>0</th>\n",
       "      <td>lognormal</td>\n",
       "      <td>gamma</td>\n",
       "      <td>25.0</td>\n",
       "      <td>1.452940</td>\n",
       "      <td>1.338451</td>\n",
       "      <td>-44.106862</td>\n",
       "      <td>-44.106862</td>\n",
       "      <td>1.000000e+00</td>\n",
       "      <td>2.297620</td>\n",
       "      <td>4.352330e-01</td>\n",
       "    </tr>\n",
       "    <tr>\n",
       "      <th>1</th>\n",
       "      <td>lognormal</td>\n",
       "      <td>gamma</td>\n",
       "      <td>50.0</td>\n",
       "      <td>1.260282</td>\n",
       "      <td>1.540875</td>\n",
       "      <td>-86.467702</td>\n",
       "      <td>-85.473633</td>\n",
       "      <td>3.700679e-01</td>\n",
       "      <td>1.539944</td>\n",
       "      <td>2.403126e-01</td>\n",
       "    </tr>\n",
       "    <tr>\n",
       "      <th>2</th>\n",
       "      <td>lognormal</td>\n",
       "      <td>gamma</td>\n",
       "      <td>75.0</td>\n",
       "      <td>1.325229</td>\n",
       "      <td>1.327695</td>\n",
       "      <td>-120.298522</td>\n",
       "      <td>-117.065667</td>\n",
       "      <td>3.944473e-02</td>\n",
       "      <td>1.050331</td>\n",
       "      <td>3.755457e-02</td>\n",
       "    </tr>\n",
       "    <tr>\n",
       "      <th>3</th>\n",
       "      <td>lognormal</td>\n",
       "      <td>gamma</td>\n",
       "      <td>100.0</td>\n",
       "      <td>1.404371</td>\n",
       "      <td>1.180437</td>\n",
       "      <td>-152.491596</td>\n",
       "      <td>-147.395901</td>\n",
       "      <td>6.123047e-03</td>\n",
       "      <td>1.007013</td>\n",
       "      <td>6.080408e-03</td>\n",
       "    </tr>\n",
       "    <tr>\n",
       "      <th>4</th>\n",
       "      <td>lognormal</td>\n",
       "      <td>gamma</td>\n",
       "      <td>150.0</td>\n",
       "      <td>1.350877</td>\n",
       "      <td>1.294970</td>\n",
       "      <td>-235.508674</td>\n",
       "      <td>-227.963629</td>\n",
       "      <td>5.287236e-04</td>\n",
       "      <td>1.000575</td>\n",
       "      <td>5.284198e-04</td>\n",
       "    </tr>\n",
       "    <tr>\n",
       "      <th>5</th>\n",
       "      <td>lognormal</td>\n",
       "      <td>gamma</td>\n",
       "      <td>200.0</td>\n",
       "      <td>1.385706</td>\n",
       "      <td>1.198068</td>\n",
       "      <td>-301.205588</td>\n",
       "      <td>-290.913671</td>\n",
       "      <td>3.390605e-05</td>\n",
       "      <td>1.000035</td>\n",
       "      <td>3.390486e-05</td>\n",
       "    </tr>\n",
       "    <tr>\n",
       "      <th>6</th>\n",
       "      <td>lognormal</td>\n",
       "      <td>lognormal</td>\n",
       "      <td>25.0</td>\n",
       "      <td>0.157524</td>\n",
       "      <td>1.017816</td>\n",
       "      <td>-44.897210</td>\n",
       "      <td>-44.106862</td>\n",
       "      <td>4.536870e-01</td>\n",
       "      <td>2.297620</td>\n",
       "      <td>1.974595e-01</td>\n",
       "    </tr>\n",
       "    <tr>\n",
       "      <th>7</th>\n",
       "      <td>lognormal</td>\n",
       "      <td>lognormal</td>\n",
       "      <td>50.0</td>\n",
       "      <td>0.154357</td>\n",
       "      <td>1.021445</td>\n",
       "      <td>-85.473633</td>\n",
       "      <td>-85.473633</td>\n",
       "      <td>1.000000e+00</td>\n",
       "      <td>1.539944</td>\n",
       "      <td>6.493743e-01</td>\n",
       "    </tr>\n",
       "    <tr>\n",
       "      <th>8</th>\n",
       "      <td>lognormal</td>\n",
       "      <td>lognormal</td>\n",
       "      <td>75.0</td>\n",
       "      <td>0.103541</td>\n",
       "      <td>0.958989</td>\n",
       "      <td>-117.065667</td>\n",
       "      <td>-117.065667</td>\n",
       "      <td>1.000000e+00</td>\n",
       "      <td>1.050331</td>\n",
       "      <td>9.520808e-01</td>\n",
       "    </tr>\n",
       "    <tr>\n",
       "      <th>9</th>\n",
       "      <td>lognormal</td>\n",
       "      <td>lognormal</td>\n",
       "      <td>100.0</td>\n",
       "      <td>0.082713</td>\n",
       "      <td>0.910577</td>\n",
       "      <td>-147.395901</td>\n",
       "      <td>-147.395901</td>\n",
       "      <td>1.000000e+00</td>\n",
       "      <td>1.007013</td>\n",
       "      <td>9.930363e-01</td>\n",
       "    </tr>\n",
       "    <tr>\n",
       "      <th>10</th>\n",
       "      <td>lognormal</td>\n",
       "      <td>lognormal</td>\n",
       "      <td>150.0</td>\n",
       "      <td>0.126745</td>\n",
       "      <td>0.931352</td>\n",
       "      <td>-227.963629</td>\n",
       "      <td>-227.963629</td>\n",
       "      <td>1.000000e+00</td>\n",
       "      <td>1.000575</td>\n",
       "      <td>9.994254e-01</td>\n",
       "    </tr>\n",
       "    <tr>\n",
       "      <th>11</th>\n",
       "      <td>lognormal</td>\n",
       "      <td>lognormal</td>\n",
       "      <td>200.0</td>\n",
       "      <td>0.090836</td>\n",
       "      <td>0.913743</td>\n",
       "      <td>-290.913671</td>\n",
       "      <td>-290.913671</td>\n",
       "      <td>1.000000e+00</td>\n",
       "      <td>1.000035</td>\n",
       "      <td>9.999651e-01</td>\n",
       "    </tr>\n",
       "    <tr>\n",
       "      <th>12</th>\n",
       "      <td>lognormal</td>\n",
       "      <td>weibull</td>\n",
       "      <td>25.0</td>\n",
       "      <td>1.288980</td>\n",
       "      <td>1.947810</td>\n",
       "      <td>-44.276544</td>\n",
       "      <td>-44.106862</td>\n",
       "      <td>8.439330e-01</td>\n",
       "      <td>2.297620</td>\n",
       "      <td>3.673075e-01</td>\n",
       "    </tr>\n",
       "    <tr>\n",
       "      <th>13</th>\n",
       "      <td>lognormal</td>\n",
       "      <td>weibull</td>\n",
       "      <td>50.0</td>\n",
       "      <td>1.108823</td>\n",
       "      <td>1.957103</td>\n",
       "      <td>-87.246319</td>\n",
       "      <td>-85.473633</td>\n",
       "      <td>1.698761e-01</td>\n",
       "      <td>1.539944</td>\n",
       "      <td>1.103132e-01</td>\n",
       "    </tr>\n",
       "    <tr>\n",
       "      <th>14</th>\n",
       "      <td>lognormal</td>\n",
       "      <td>weibull</td>\n",
       "      <td>75.0</td>\n",
       "      <td>1.124095</td>\n",
       "      <td>1.804692</td>\n",
       "      <td>-121.585914</td>\n",
       "      <td>-117.065667</td>\n",
       "      <td>1.088634e-02</td>\n",
       "      <td>1.050331</td>\n",
       "      <td>1.036467e-02</td>\n",
       "    </tr>\n",
       "    <tr>\n",
       "      <th>15</th>\n",
       "      <td>lognormal</td>\n",
       "      <td>weibull</td>\n",
       "      <td>100.0</td>\n",
       "      <td>1.155493</td>\n",
       "      <td>1.730290</td>\n",
       "      <td>-154.420775</td>\n",
       "      <td>-147.395901</td>\n",
       "      <td>8.894801e-04</td>\n",
       "      <td>1.007013</td>\n",
       "      <td>8.832860e-04</td>\n",
       "    </tr>\n",
       "    <tr>\n",
       "      <th>16</th>\n",
       "      <td>lognormal</td>\n",
       "      <td>weibull</td>\n",
       "      <td>150.0</td>\n",
       "      <td>1.125347</td>\n",
       "      <td>1.816000</td>\n",
       "      <td>-237.945842</td>\n",
       "      <td>-227.963629</td>\n",
       "      <td>4.621470e-05</td>\n",
       "      <td>1.000575</td>\n",
       "      <td>4.618815e-05</td>\n",
       "    </tr>\n",
       "    <tr>\n",
       "      <th>17</th>\n",
       "      <td>lognormal</td>\n",
       "      <td>weibull</td>\n",
       "      <td>200.0</td>\n",
       "      <td>1.137720</td>\n",
       "      <td>1.730878</td>\n",
       "      <td>-304.734223</td>\n",
       "      <td>-290.913671</td>\n",
       "      <td>9.949712e-07</td>\n",
       "      <td>1.000035</td>\n",
       "      <td>9.949365e-07</td>\n",
       "    </tr>\n",
       "  </tbody>\n",
       "</table>\n",
       "</div>"
      ],
      "text/plain": [
       "   model_data  model_fit     ss   param_1   param_2  \\\n",
       "0   lognormal      gamma   25.0  1.452940  1.338451   \n",
       "1   lognormal      gamma   50.0  1.260282  1.540875   \n",
       "2   lognormal      gamma   75.0  1.325229  1.327695   \n",
       "3   lognormal      gamma  100.0  1.404371  1.180437   \n",
       "4   lognormal      gamma  150.0  1.350877  1.294970   \n",
       "5   lognormal      gamma  200.0  1.385706  1.198068   \n",
       "6   lognormal  lognormal   25.0  0.157524  1.017816   \n",
       "7   lognormal  lognormal   50.0  0.154357  1.021445   \n",
       "8   lognormal  lognormal   75.0  0.103541  0.958989   \n",
       "9   lognormal  lognormal  100.0  0.082713  0.910577   \n",
       "10  lognormal  lognormal  150.0  0.126745  0.931352   \n",
       "11  lognormal  lognormal  200.0  0.090836  0.913743   \n",
       "12  lognormal    weibull   25.0  1.288980  1.947810   \n",
       "13  lognormal    weibull   50.0  1.108823  1.957103   \n",
       "14  lognormal    weibull   75.0  1.124095  1.804692   \n",
       "15  lognormal    weibull  100.0  1.155493  1.730290   \n",
       "16  lognormal    weibull  150.0  1.125347  1.816000   \n",
       "17  lognormal    weibull  200.0  1.137720  1.730878   \n",
       "\n",
       "    marginal_log_likelihood_x  marginal_log_likelihood_y          BF_x  \\\n",
       "0                  -44.106862                 -44.106862  1.000000e+00   \n",
       "1                  -86.467702                 -85.473633  3.700679e-01   \n",
       "2                 -120.298522                -117.065667  3.944473e-02   \n",
       "3                 -152.491596                -147.395901  6.123047e-03   \n",
       "4                 -235.508674                -227.963629  5.287236e-04   \n",
       "5                 -301.205588                -290.913671  3.390605e-05   \n",
       "6                  -44.897210                 -44.106862  4.536870e-01   \n",
       "7                  -85.473633                 -85.473633  1.000000e+00   \n",
       "8                 -117.065667                -117.065667  1.000000e+00   \n",
       "9                 -147.395901                -147.395901  1.000000e+00   \n",
       "10                -227.963629                -227.963629  1.000000e+00   \n",
       "11                -290.913671                -290.913671  1.000000e+00   \n",
       "12                 -44.276544                 -44.106862  8.439330e-01   \n",
       "13                 -87.246319                 -85.473633  1.698761e-01   \n",
       "14                -121.585914                -117.065667  1.088634e-02   \n",
       "15                -154.420775                -147.395901  8.894801e-04   \n",
       "16                -237.945842                -227.963629  4.621470e-05   \n",
       "17                -304.734223                -290.913671  9.949712e-07   \n",
       "\n",
       "        BF_y  model_probability  \n",
       "0   2.297620       4.352330e-01  \n",
       "1   1.539944       2.403126e-01  \n",
       "2   1.050331       3.755457e-02  \n",
       "3   1.007013       6.080408e-03  \n",
       "4   1.000575       5.284198e-04  \n",
       "5   1.000035       3.390486e-05  \n",
       "6   2.297620       1.974595e-01  \n",
       "7   1.539944       6.493743e-01  \n",
       "8   1.050331       9.520808e-01  \n",
       "9   1.007013       9.930363e-01  \n",
       "10  1.000575       9.994254e-01  \n",
       "11  1.000035       9.999651e-01  \n",
       "12  2.297620       3.673075e-01  \n",
       "13  1.539944       1.103132e-01  \n",
       "14  1.050331       1.036467e-02  \n",
       "15  1.007013       8.832860e-04  \n",
       "16  1.000575       4.618815e-05  \n",
       "17  1.000035       9.949365e-07  "
      ]
     },
     "execution_count": 11,
     "metadata": {},
     "output_type": "execute_result"
    }
   ],
   "source": [
    "max_marginal_log_likelihood = (\n",
    "    Bayesian_Summary[[\"model_data\", \"ss\", \"marginal_log_likelihood\"]]\n",
    "    .groupby([\"model_data\", \"ss\"])\n",
    "    .max()\n",
    ")\n",
    "max_marginal_log_likelihood.reset_index(level=[\"model_data\", \"ss\"], inplace=True)\n",
    "max_marginal_log_likelihood.rename(\n",
    "    columns={\"marginal_log_likelihood\": \"max_marginal_log_likelihood\"}\n",
    ")\n",
    "\n",
    "Bayesian_Summary_1 = pd.merge(\n",
    "    Bayesian_Summary, max_marginal_log_likelihood, how=\"left\", on=[\"model_data\", \"ss\"]\n",
    ")\n",
    "Bayesian_Summary_1\n",
    "\n",
    "Bayesian_Summary_1[\"BF\"] = np.exp(\n",
    "    Bayesian_Summary_1.marginal_log_likelihood_x\n",
    "    - Bayesian_Summary_1.marginal_log_likelihood_y\n",
    ")\n",
    "\n",
    "Bayesian_Summary_1\n",
    "sum_BF = (\n",
    "    Bayesian_Summary_1[[\"ss\", \"model_data\", \"BF\"]].groupby([\"ss\", \"model_data\"]).sum()\n",
    ")\n",
    "sum_BF.reset_index(level=[\"model_data\", \"ss\"], inplace=True)\n",
    "\n",
    "Bayesian_Summary_2 = pd.merge(\n",
    "    Bayesian_Summary_1, sum_BF, how=\"left\", on=[\"model_data\", \"ss\"]\n",
    ")\n",
    "Bayesian_Summary_2\n",
    "Bayesian_Summary_2[\"model_probability\"] = (\n",
    "    Bayesian_Summary_2.BF_x / Bayesian_Summary_2.BF_y\n",
    ")\n",
    "Bayesian_Summary_2"
   ]
  },
  {
   "cell_type": "code",
   "execution_count": 12,
   "metadata": {},
   "outputs": [],
   "source": [
    "# # Frequency-Loss Model\n",
    "# α, p, k, β = 4, 2 / 3, 1 / 3, 1\n",
    "# rg = default_rng(123)\n",
    "# uData_10000 = abc.simulate_claim_sizes(rg, 10000, sev, θ_sev)\n",
    "# r_mle, m_mle, BIC = infer_gamma(uData_10000, [1, 1])\n",
    "\n",
    "# θ_plot = [[α, p, k, β], [α, p, np.NaN, np.NaN]]\n",
    "# θ_mle = [[np.NaN, np.NaN, np.NaN, np.NaN], [np.NaN, np.NaN, r_mle, m_mle]]"
   ]
  },
  {
   "cell_type": "code",
   "execution_count": 13,
   "metadata": {
    "lines_to_next_cell": 2
   },
   "outputs": [
    {
     "data": {
      "text/html": [
       "<div>\n",
       "<style scoped>\n",
       "    .dataframe tbody tr th:only-of-type {\n",
       "        vertical-align: middle;\n",
       "    }\n",
       "\n",
       "    .dataframe tbody tr th {\n",
       "        vertical-align: top;\n",
       "    }\n",
       "\n",
       "    .dataframe thead th {\n",
       "        text-align: right;\n",
       "    }\n",
       "</style>\n",
       "<table border=\"1\" class=\"dataframe\">\n",
       "  <thead>\n",
       "    <tr style=\"text-align: right;\">\n",
       "      <th></th>\n",
       "      <th>model_data</th>\n",
       "      <th>model_fit</th>\n",
       "      <th>ss</th>\n",
       "      <th>model_probability</th>\n",
       "      <th>model_probability_ABC</th>\n",
       "    </tr>\n",
       "  </thead>\n",
       "  <tbody>\n",
       "    <tr>\n",
       "      <th>0</th>\n",
       "      <td>lognormal</td>\n",
       "      <td>gamma</td>\n",
       "      <td>25.0</td>\n",
       "      <td>0.44</td>\n",
       "      <td>0.46</td>\n",
       "    </tr>\n",
       "    <tr>\n",
       "      <th>1</th>\n",
       "      <td>lognormal</td>\n",
       "      <td>gamma</td>\n",
       "      <td>50.0</td>\n",
       "      <td>0.24</td>\n",
       "      <td>0.33</td>\n",
       "    </tr>\n",
       "    <tr>\n",
       "      <th>2</th>\n",
       "      <td>lognormal</td>\n",
       "      <td>gamma</td>\n",
       "      <td>75.0</td>\n",
       "      <td>0.04</td>\n",
       "      <td>0.11</td>\n",
       "    </tr>\n",
       "    <tr>\n",
       "      <th>3</th>\n",
       "      <td>lognormal</td>\n",
       "      <td>gamma</td>\n",
       "      <td>100.0</td>\n",
       "      <td>0.01</td>\n",
       "      <td>0.04</td>\n",
       "    </tr>\n",
       "    <tr>\n",
       "      <th>4</th>\n",
       "      <td>lognormal</td>\n",
       "      <td>gamma</td>\n",
       "      <td>150.0</td>\n",
       "      <td>0.00</td>\n",
       "      <td>0.01</td>\n",
       "    </tr>\n",
       "    <tr>\n",
       "      <th>5</th>\n",
       "      <td>lognormal</td>\n",
       "      <td>gamma</td>\n",
       "      <td>200.0</td>\n",
       "      <td>0.00</td>\n",
       "      <td>0.00</td>\n",
       "    </tr>\n",
       "    <tr>\n",
       "      <th>6</th>\n",
       "      <td>lognormal</td>\n",
       "      <td>lognormal</td>\n",
       "      <td>25.0</td>\n",
       "      <td>0.20</td>\n",
       "      <td>0.17</td>\n",
       "    </tr>\n",
       "    <tr>\n",
       "      <th>7</th>\n",
       "      <td>lognormal</td>\n",
       "      <td>lognormal</td>\n",
       "      <td>50.0</td>\n",
       "      <td>0.65</td>\n",
       "      <td>0.50</td>\n",
       "    </tr>\n",
       "    <tr>\n",
       "      <th>8</th>\n",
       "      <td>lognormal</td>\n",
       "      <td>lognormal</td>\n",
       "      <td>75.0</td>\n",
       "      <td>0.95</td>\n",
       "      <td>0.83</td>\n",
       "    </tr>\n",
       "    <tr>\n",
       "      <th>9</th>\n",
       "      <td>lognormal</td>\n",
       "      <td>lognormal</td>\n",
       "      <td>100.0</td>\n",
       "      <td>0.99</td>\n",
       "      <td>0.95</td>\n",
       "    </tr>\n",
       "    <tr>\n",
       "      <th>10</th>\n",
       "      <td>lognormal</td>\n",
       "      <td>lognormal</td>\n",
       "      <td>150.0</td>\n",
       "      <td>1.00</td>\n",
       "      <td>0.99</td>\n",
       "    </tr>\n",
       "    <tr>\n",
       "      <th>11</th>\n",
       "      <td>lognormal</td>\n",
       "      <td>lognormal</td>\n",
       "      <td>200.0</td>\n",
       "      <td>1.00</td>\n",
       "      <td>1.00</td>\n",
       "    </tr>\n",
       "    <tr>\n",
       "      <th>12</th>\n",
       "      <td>lognormal</td>\n",
       "      <td>weibull</td>\n",
       "      <td>25.0</td>\n",
       "      <td>0.37</td>\n",
       "      <td>0.37</td>\n",
       "    </tr>\n",
       "    <tr>\n",
       "      <th>13</th>\n",
       "      <td>lognormal</td>\n",
       "      <td>weibull</td>\n",
       "      <td>50.0</td>\n",
       "      <td>0.11</td>\n",
       "      <td>0.17</td>\n",
       "    </tr>\n",
       "    <tr>\n",
       "      <th>14</th>\n",
       "      <td>lognormal</td>\n",
       "      <td>weibull</td>\n",
       "      <td>75.0</td>\n",
       "      <td>0.01</td>\n",
       "      <td>0.06</td>\n",
       "    </tr>\n",
       "    <tr>\n",
       "      <th>15</th>\n",
       "      <td>lognormal</td>\n",
       "      <td>weibull</td>\n",
       "      <td>100.0</td>\n",
       "      <td>0.00</td>\n",
       "      <td>0.01</td>\n",
       "    </tr>\n",
       "    <tr>\n",
       "      <th>16</th>\n",
       "      <td>lognormal</td>\n",
       "      <td>weibull</td>\n",
       "      <td>150.0</td>\n",
       "      <td>0.00</td>\n",
       "      <td>0.00</td>\n",
       "    </tr>\n",
       "    <tr>\n",
       "      <th>17</th>\n",
       "      <td>lognormal</td>\n",
       "      <td>weibull</td>\n",
       "      <td>200.0</td>\n",
       "      <td>0.00</td>\n",
       "      <td>0.00</td>\n",
       "    </tr>\n",
       "  </tbody>\n",
       "</table>\n",
       "</div>"
      ],
      "text/plain": [
       "   model_data  model_fit     ss  model_probability  model_probability_ABC\n",
       "0   lognormal      gamma   25.0               0.44                   0.46\n",
       "1   lognormal      gamma   50.0               0.24                   0.33\n",
       "2   lognormal      gamma   75.0               0.04                   0.11\n",
       "3   lognormal      gamma  100.0               0.01                   0.04\n",
       "4   lognormal      gamma  150.0               0.00                   0.01\n",
       "5   lognormal      gamma  200.0               0.00                   0.00\n",
       "6   lognormal  lognormal   25.0               0.20                   0.17\n",
       "7   lognormal  lognormal   50.0               0.65                   0.50\n",
       "8   lognormal  lognormal   75.0               0.95                   0.83\n",
       "9   lognormal  lognormal  100.0               0.99                   0.95\n",
       "10  lognormal  lognormal  150.0               1.00                   0.99\n",
       "11  lognormal  lognormal  200.0               1.00                   1.00\n",
       "12  lognormal    weibull   25.0               0.37                   0.37\n",
       "13  lognormal    weibull   50.0               0.11                   0.17\n",
       "14  lognormal    weibull   75.0               0.01                   0.06\n",
       "15  lognormal    weibull  100.0               0.00                   0.01\n",
       "16  lognormal    weibull  150.0               0.00                   0.00\n",
       "17  lognormal    weibull  200.0               0.00                   0.00"
      ]
     },
     "execution_count": 13,
     "metadata": {},
     "output_type": "execute_result"
    }
   ],
   "source": [
    "model_proba = pd.merge(\n",
    "    Bayesian_Summary_2[[\"model_data\", \"model_fit\", \"ss\", \"model_probability\"]],\n",
    "    model_proba_abc,\n",
    "    how=\"left\",\n",
    "    on=[\"model_data\", \"model_fit\", \"ss\"],\n",
    ").round(2)\n",
    "model_proba"
   ]
  },
  {
   "cell_type": "code",
   "execution_count": 14,
   "metadata": {},
   "outputs": [
    {
     "name": "stdout",
     "output_type": "stream",
     "text": [
      "\\begin{tabular}{lrrrrrr}\n",
      "\\toprule\n",
      "{} & \\multicolumn{3}{l}{model\\_probability} & \\multicolumn{3}{l}{model\\_probability\\_ABC} \\\\\n",
      "model\\_fit &             gamma & lognormal & weibull &                 gamma & lognormal & weibull \\\\\n",
      "ss    &                   &           &         &                       &           &         \\\\\n",
      "\\midrule\n",
      "25.0  &              0.44 &      0.20 &    0.37 &                  0.46 &      0.17 &    0.37 \\\\\n",
      "50.0  &              0.24 &      0.65 &    0.11 &                  0.33 &      0.50 &    0.17 \\\\\n",
      "75.0  &              0.04 &      0.95 &    0.01 &                  0.11 &      0.83 &    0.06 \\\\\n",
      "100.0 &              0.01 &      0.99 &    0.00 &                  0.04 &      0.95 &    0.01 \\\\\n",
      "150.0 &              0.00 &      1.00 &    0.00 &                  0.01 &      0.99 &    0.00 \\\\\n",
      "200.0 &              0.00 &      1.00 &    0.00 &                  0.00 &      1.00 &    0.00 \\\\\n",
      "\\bottomrule\n",
      "\\end{tabular}\n",
      "\n"
     ]
    }
   ],
   "source": [
    "print(\n",
    "    pd.pivot_table(\n",
    "        model_proba,\n",
    "        values=[\"model_probability\", \"model_probability_ABC\"],\n",
    "        index=[\"ss\"],\n",
    "        columns=[\"model_fit\"],\n",
    "        aggfunc={\"model_probability\": np.mean, \"model_probability_ABC\": np.mean},\n",
    "    ).to_latex()\n",
    ")"
   ]
  },
  {
   "cell_type": "code",
   "execution_count": 15,
   "metadata": {},
   "outputs": [
    {
     "name": "stdout",
     "output_type": "stream",
     "text": [
      "Notebook time = 3657 secs = 60.94 mins\n"
     ]
    }
   ],
   "source": [
    "elapsed = toc()\n",
    "print(f\"Notebook time = {elapsed:.0f} secs = {elapsed/60:.2f} mins\")"
   ]
  },
  {
   "cell_type": "code",
   "execution_count": 16,
   "metadata": {},
   "outputs": [],
   "source": [
    "dill.dump_session(\"Sim_Lognormal_Gamma.pkl\")"
   ]
  }
 ],
 "metadata": {
  "jupytext": {
   "comment_magics": false,
   "encoding": "# -*- coding: utf-8 -*-",
   "formats": "ipynb,py:light"
  },
  "kernelspec": {
   "display_name": "Python 3",
   "language": "python",
   "name": "python3"
  },
  "language_info": {
   "codemirror_mode": {
    "name": "ipython",
    "version": 3
   },
   "file_extension": ".py",
   "mimetype": "text/x-python",
   "name": "python",
   "nbconvert_exporter": "python",
   "pygments_lexer": "ipython3",
   "version": "3.8.10"
  }
 },
 "nbformat": 4,
 "nbformat_minor": 4
}
